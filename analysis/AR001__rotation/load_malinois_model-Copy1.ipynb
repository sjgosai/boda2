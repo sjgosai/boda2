{
 "cells": [
  {
   "cell_type": "code",
   "execution_count": 1,
   "id": "81c0091b-760c-489a-91f2-b1f639e83e57",
   "metadata": {},
   "outputs": [],
   "source": [
    "import shutil\n",
    "import os\n",
    "\n",
    "import torch\n",
    "import torch.nn as nn\n",
    "\n",
    "import boda"
   ]
  },
  {
   "cell_type": "markdown",
   "id": "dddbeac7-20ac-4cd8-8b12-a88e0565c47e",
   "metadata": {},
   "source": [
    "# Helpers\n",
    "\n",
    "1. `load_model` checks GPUs, clears a spot for the model to be downloaded, downloads, and loads the model in `eval` mode.\n",
    "\n",
    "2. `FlankBuilder` is used to pad inputs with MPRA vector backbone sequence. For technical reasons, Malinois reads 600 nt sequences (i.e., n x 4 x 600 inputs) but it should be 200 nt of variable sequence padded with MPRA backbone."
   ]
  },
  {
   "cell_type": "code",
   "execution_count": 2,
   "id": "9311b55e-d59a-46fc-979d-0e8d96b1a65a",
   "metadata": {},
   "outputs": [],
   "source": [
    "def load_model(artifact_path):\n",
    "    \n",
    "    USE_CUDA = torch.cuda.device_count() >= 1\n",
    "    if os.path.isdir('./artifacts'):\n",
    "        shutil.rmtree('./artifacts')\n",
    "\n",
    "    boda.common.utils.unpack_artifact(artifact_path)\n",
    "\n",
    "    model_dir = './artifacts'\n",
    "\n",
    "    my_model = boda.common.utils.model_fn(model_dir)\n",
    "    my_model.eval()\n",
    "    if USE_CUDA:\n",
    "        my_model.cuda()\n",
    "    \n",
    "    return my_model"
   ]
  },
  {
   "cell_type": "markdown",
   "id": "7abcf9b1-4de4-4a7d-9f9f-5e1541e6ce65",
   "metadata": {},
   "source": [
    "# Get Malinois\n",
    "\n",
    "Can download directly from a Google Storage bucket you can access."
   ]
  },
  {
   "cell_type": "code",
   "execution_count": 3,
   "id": "d04f82f1-8cca-4c4d-b5e0-24ca18d4a039",
   "metadata": {},
   "outputs": [
    {
     "name": "stderr",
     "output_type": "stream",
     "text": [
      "Copying gs://tewhey-public-data/CODA_resources/malinois_model__20211113_021200__287348.tar.gz...\n",
      "\\ [1 files][ 49.3 MiB/ 49.3 MiB]                                                \n",
      "Operation completed over 1 objects/49.3 MiB.                                     \n",
      "archive unpacked in ./\n"
     ]
    },
    {
     "name": "stdout",
     "output_type": "stream",
     "text": [
      "Loaded model from 20211113_021200 in eval mode\n"
     ]
    }
   ],
   "source": [
    "malinois_path = 'gs://tewhey-public-data/CODA_resources/malinois_model__20211113_021200__287348.tar.gz'\n",
    "my_model = load_model(malinois_path)"
   ]
  },
  {
   "cell_type": "markdown",
   "id": "951d05a8-c37f-4a9b-8ec9-248d0072c8b4",
   "metadata": {},
   "source": [
    "## Set flanks\n",
    "\n",
    "MPRA flanks are saved as constants in the `boda` repo. These need to be sized to (1, 4, 200) each and used to init `FlankBuilder`."
   ]
  },
  {
   "cell_type": "code",
   "execution_count": 4,
   "id": "4f9dbfb3-ecec-4f87-9d1f-d09589b3aa5d",
   "metadata": {},
   "outputs": [
    {
     "name": "stdout",
     "output_type": "stream",
     "text": [
      "left flank shape: torch.Size([1, 4, 200])\n",
      "right flank shape: torch.Size([1, 4, 200])\n"
     ]
    },
    {
     "data": {
      "text/plain": [
       "FlankBuilder()"
      ]
     },
     "execution_count": 4,
     "metadata": {},
     "output_type": "execute_result"
    }
   ],
   "source": [
    "left_flank = boda.common.utils.dna2tensor( \n",
    "    boda.common.constants.MPRA_UPSTREAM[-200:] \n",
    ").unsqueeze(0)\n",
    "print(f'left flank shape: {left_flank.shape}')\n",
    "\n",
    "right_flank= boda.common.utils.dna2tensor( \n",
    "    boda.common.constants.MPRA_DOWNSTREAM[:200] \n",
    ").unsqueeze(0)\n",
    "right_flank.shape\n",
    "print(f'right flank shape: {right_flank.shape}')\n",
    "\n",
    "flank_builder = boda.common.utils.FlankBuilder(\n",
    "    left_flank=left_flank,\n",
    "    right_flank=right_flank,\n",
    ")\n",
    "\n",
    "flank_builder.cuda()"
   ]
  },
  {
   "cell_type": "markdown",
   "id": "9041c756-f6f2-464c-b690-909c33af6d1a",
   "metadata": {},
   "source": [
    "# Example call\n",
    "\n",
    "Using `torch.no_grad()` so the computation graph isn't saved to memory. Since sequences are passed to the model as onehots in `torch.float32` format, we can use `torch.randn` to validate the model setup. Here a batch of 10 variable 200 nt (fake) sequences are being padded to 600 nt, then being passed to the model. Note, `my_model` and `flank_builder` have been set on the GPU using `.cuda()` calls. Therefore, the fake sequence also needs to be sent to `cuda`."
   ]
  },
  {
   "cell_type": "code",
   "execution_count": 5,
   "id": "b7cc54ec-8709-478d-b804-bd0c58983a39",
   "metadata": {},
   "outputs": [
    {
     "name": "stdout",
     "output_type": "stream",
     "text": [
      "tensor([[-2.8178, -1.3312,  1.3796],\n",
      "        [-1.4956, -1.1950,  4.2369],\n",
      "        [ 0.0625, -0.8346,  4.8093],\n",
      "        [-3.2229, -0.7095,  7.3412],\n",
      "        [ 6.0309,  1.0885, 12.4849],\n",
      "        [-1.0273, -0.7155,  9.6839],\n",
      "        [-1.8505, -2.0176,  5.2422],\n",
      "        [ 0.2424, -0.3303,  6.9106],\n",
      "        [-0.0159, -0.0228, 10.6849],\n",
      "        [-2.4961, -1.4846,  4.9746]], device='cuda:0')\n"
     ]
    }
   ],
   "source": [
    "with torch.no_grad():\n",
    "    print( \n",
    "        my_model( \n",
    "            flank_builder(                     # Need to add MPRA flanks\n",
    "                torch.randn((10,4,200)).cuda() # Simulate a batch_size x 4 nucleotide x 200 nt long sequence\n",
    "            ) \n",
    "        ) \n",
    "    )"
   ]
  },
  {
   "cell_type": "markdown",
   "id": "7352a969-29a1-46ba-a902-3033d7a361f2",
   "metadata": {},
   "source": [
    "# Run on MPRA data set\n",
    "\n",
    "We're focusing on sequences that are 200 nt long for simplicity. "
   ]
  },
  {
   "cell_type": "code",
   "execution_count": 6,
   "id": "1f08d4dc-0edf-41f6-ac99-0b9f1e1ddb2c",
   "metadata": {},
   "outputs": [],
   "source": [
    "import pandas as pd\n",
    "import numpy as np\n",
    "import csv\n",
    "from scipy.stats import pearsonr\n",
    "import tqdm.notebook as tqdm\n",
    "import matplotlib.pyplot as plt"
   ]
  },
  {
   "cell_type": "code",
   "execution_count": null,
   "id": "a29c2452-e65f-406f-bb39-31cc72cd5d1c",
   "metadata": {},
   "outputs": [
    {
     "data": {
      "application/vnd.jupyter.widget-view+json": {
       "model_id": "67cadfedaa2e4eda946979bff5fd1c28",
       "version_major": 2,
       "version_minor": 0
      },
      "text/plain": [
       "  0%|          | 0/100000 [00:00<?, ?it/s]"
      ]
     },
     "metadata": {},
     "output_type": "display_data"
    }
   ],
   "source": [
    "pass_seq = pd.read_csv(\"/home/ubuntu/boda2/analysis/AR001__rotation/randseqs.tsv\")\n",
    "\n",
    "seq_tensor  = torch.stack([ boda.common.utils.dna2tensor(x[0]) for i, x in tqdm.tqdm(pass_seq.iterrows(), total=pass_seq.shape[0]) ], dim=0)\n",
    "seq_dataset = torch.utils.data.TensorDataset(seq_tensor)\n",
    "seq_loader  = torch.utils.data.DataLoader(seq_dataset, batch_size=128)"
   ]
  },
  {
   "cell_type": "code",
   "execution_count": null,
   "id": "c1a73482-8afb-4aa2-a145-5448a0e9681a",
   "metadata": {},
   "outputs": [],
   "source": [
    "results = []\n",
    "\n",
    "with torch.no_grad():\n",
    "    for i, batch in enumerate(tqdm.tqdm(seq_loader)):\n",
    "        prepped_seq = pass_seq ## added flanks in diffusion code\n",
    "        predictions = my_model( prepped_seq ) + \\\n",
    "                      my_model( prepped_seq.flip(dims=[1,2]) ) # Also\n",
    "        predictions = predictions.div(2.)\n",
    "        results.append(predictions.detach().cpu())\n",
    "                \n",
    "predictions = torch.cat(results, dim=0)"
   ]
  },
  {
   "cell_type": "code",
   "execution_count": null,
   "id": "0276bc9f-00ae-4e74-aa99-a350a41157d8",
   "metadata": {},
   "outputs": [],
   "source": [
    "pred_df = pd.DataFrame( predictions.numpy(), columns=['K562_preds', 'HepG2_preds', 'SKNSH_preds'] )\n",
    "pred_df"
   ]
  },
  {
   "cell_type": "code",
   "execution_count": null,
   "id": "e0ea21a3-099a-49b7-bf25-d4e4cfe0f14e",
   "metadata": {},
   "outputs": [],
   "source": [
    "all_results = pd.concat([pass_seq, pred_df], axis=1)\n",
    "all_results"
   ]
  },
  {
   "cell_type": "markdown",
   "id": "0995d807-03c3-4dbc-b8f0-ed4e7c43281e",
   "metadata": {},
   "source": [
    "# Test set performance\n",
    "Check performance on chromosomes 7 and 13 (held-out for training and validation)."
   ]
  },
  {
   "cell_type": "code",
   "execution_count": null,
   "id": "cb49832b-346f-49e6-80a1-fc16857d7ab3",
   "metadata": {},
   "outputs": [],
   "source": [
    "chr_filter = (all_results['chr'] == 7) | (all_results['chr'] == 13) | (all_results['chr'] == '7') | (all_results['chr'] == '13')\n"
   ]
  },
  {
   "cell_type": "code",
   "execution_count": null,
   "id": "f06c671d-9258-47d4-87d7-fa7730574e8d",
   "metadata": {},
   "outputs": [],
   "source": [
    "pearsonr(all_results.loc[ chr_filter,'K562_mean'], all_results.loc[ chr_filter, 'K562_preds'])"
   ]
  },
  {
   "cell_type": "code",
   "execution_count": null,
   "id": "f31d0ead-4de8-445b-882d-dc6fece6d10f",
   "metadata": {},
   "outputs": [],
   "source": [
    "pearsonr(all_results.loc[ chr_filter,'HepG2_mean'], all_results.loc[ chr_filter, 'HepG2_preds'])"
   ]
  },
  {
   "cell_type": "code",
   "execution_count": null,
   "id": "10d72d49-79f7-4c1e-a409-727ee75bf469",
   "metadata": {},
   "outputs": [],
   "source": [
    "pearsonr(all_results.loc[ chr_filter,'SKNSH_mean'], all_results.loc[ chr_filter, 'SKNSH_preds'])"
   ]
  },
  {
   "cell_type": "code",
   "execution_count": null,
   "id": "08e58ce9-f330-42ba-a40c-bc07c1a78ca1",
   "metadata": {},
   "outputs": [],
   "source": [
    "all_results.loc[:,['IDs', 'nt_sequence', 'K562_preds', 'HepG2_preds', 'SKNSH_preds']].to_csv('inference_check.tsv', sep='\\t', index=False, header=True, quoting=csv.QUOTE_NONE)\n",
    "all_results.loc[:,['IDs', 'nt_sequence', 'K562_preds', 'HepG2_preds', 'SKNSH_preds']]"
   ]
  }
 ],
 "metadata": {
  "kernelspec": {
   "display_name": "Python 3 (ipykernel)",
   "language": "python",
   "name": "python3"
  },
  "language_info": {
   "codemirror_mode": {
    "name": "ipython",
    "version": 3
   },
   "file_extension": ".py",
   "mimetype": "text/x-python",
   "name": "python",
   "nbconvert_exporter": "python",
   "pygments_lexer": "ipython3",
   "version": "3.7.12"
  }
 },
 "nbformat": 4,
 "nbformat_minor": 5
}
