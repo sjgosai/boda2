{
 "cells": [
  {
   "cell_type": "code",
   "execution_count": 1,
   "id": "29f10ceb-ab42-49f2-96fe-338b2c204714",
   "metadata": {},
   "outputs": [
    {
     "name": "stdout",
     "output_type": "stream",
     "text": [
      "100000 sequences saved to 'randseqs.tsv'.\n"
     ]
    }
   ],
   "source": [
    "import random\n",
    "import csv\n",
    "\n",
    "random.seed(42)\n",
    "\n",
    "# Function to generate random DNA sequence\n",
    "def generate_dna_sequence(length):\n",
    "    return ''.join(random.choice('ACGT') for _ in range(length))\n",
    "\n",
    "# Number of sequences in the dataset\n",
    "num_sequences = 100000\n",
    "\n",
    "# Length of DNA sequences\n",
    "sequence_length = 200\n",
    "\n",
    "header = [\"Sequence\"]  # Define the header\n",
    "\n",
    "# Generating random sequences dataset\n",
    "randseqs = []\n",
    "for _ in range(num_sequences):\n",
    "    sequence = generate_dna_sequence(sequence_length)\n",
    "    randseqs.append((sequence,))\n",
    "\n",
    "tsv_file = \"randseqs.tsv\"\n",
    "with open(tsv_file, 'w', newline='') as file:\n",
    "    writer = csv.writer(file, delimiter='\\t')\n",
    "    writer.writerow(header)  # Write the header row\n",
    "    for sequence in randseqs:\n",
    "        writer.writerow(sequence)\n",
    "\n",
    "print(f\"{num_sequences} sequences saved to '{tsv_file}'.\")\n"
   ]
  },
  {
   "cell_type": "code",
   "execution_count": null,
   "id": "69ae5cde-4405-4723-99b3-7a17f796601a",
   "metadata": {},
   "outputs": [],
   "source": []
  }
 ],
 "metadata": {
  "kernelspec": {
   "display_name": "Python 3 (ipykernel)",
   "language": "python",
   "name": "python3"
  },
  "language_info": {
   "codemirror_mode": {
    "name": "ipython",
    "version": 3
   },
   "file_extension": ".py",
   "mimetype": "text/x-python",
   "name": "python",
   "nbconvert_exporter": "python",
   "pygments_lexer": "ipython3",
   "version": "3.7.12"
  }
 },
 "nbformat": 4,
 "nbformat_minor": 5
}
